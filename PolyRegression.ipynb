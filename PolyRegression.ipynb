{
 "cells": [
  {
   "cell_type": "code",
   "execution_count": 19,
   "metadata": {},
   "outputs": [
    {
     "data": {
      "image/png": "[encoded data removed]",
      "text/plain": [
       "<Figure size 432x288 with 1 Axes>"
      ]
     },
     "metadata": {
      "needs_background": "light"
     },
     "output_type": "display_data"
    }
   ],
   "source": [
    "import pandas as pd\n",
    "data = pd.read_csv('data_merged.csv', index_col=0)\n",
    "\n",
    "from sklearn.model_selection import train_test_split\n",
    "train_set, test_set = train_test_split(data, test_size=0.2, random_state=42)\n",
    "target = \"Inflation_Rate\"\n",
    "features = list(train_set.columns)\n",
    "features = [x for x in features if x not in ['Date', \"Inflation_Rate\"]]\n",
    "\n",
    "X_train = train_set[features]\n",
    "y_train = train_set[[target]]\n",
    "X_test = test_set[features]\n",
    "y_test = test_set[[target]]\n",
    "from sklearn.preprocessing import PolynomialFeatures\n",
    "poly = PolynomialFeatures(2)\n",
    "poly.fit(X_train)\n",
    "X_train = poly.fit_transform(X_train)\n",
    "X_test = poly.transform(X_test)\n",
    "\n",
    "import matplotlib.pyplot as plt\n",
    "\n",
    "plt.scatter(X_train[:, 2], y_train)\n",
    "plt.show()"
   ]
  },
  {
   "cell_type": "code",
   "execution_count": 20,
   "metadata": {},
   "outputs": [
    {
     "name": "stdout",
     "output_type": "stream",
     "text": [
      "Original number of features: 7\n",
      "Final number of features: 36\n"
     ]
    }
   ],
   "source": [
    "print(\"Original number of features: \"+str(len(features)))\n",
    "print(\"Final number of features: \"+str(X_train.shape[1]))\n",
    "\n"
   ]
  },
  {
   "cell_type": "code",
   "execution_count": 21,
   "metadata": {},
   "outputs": [
    {
     "data": {
      "text/plain": [
       "array(['1', 'Prime_Rate', 'Crude_prices', '10_year_bond',\n",
       "       'manu_labor_rate', 'CAD_M1_MoneySupply', 'USD_CAD_rate',\n",
       "       'SNP_TSX_Close', 'Prime_Rate^2', 'Prime_Rate Crude_prices',\n",
       "       'Prime_Rate 10_year_bond', 'Prime_Rate manu_labor_rate',\n",
       "       'Prime_Rate CAD_M1_MoneySupply', 'Prime_Rate USD_CAD_rate',\n",
       "       'Prime_Rate SNP_TSX_Close', 'Crude_prices^2',\n",
       "       'Crude_prices 10_year_bond', 'Crude_prices manu_labor_rate',\n",
       "       'Crude_prices CAD_M1_MoneySupply', 'Crude_prices USD_CAD_rate',\n",
       "       'Crude_prices SNP_TSX_Close', '10_year_bond^2',\n",
       "       '10_year_bond manu_labor_rate', '10_year_bond CAD_M1_MoneySupply',\n",
       "       '10_year_bond USD_CAD_rate', '10_year_bond SNP_TSX_Close',\n",
       "       'manu_labor_rate^2', 'manu_labor_rate CAD_M1_MoneySupply',\n",
       "       'manu_labor_rate USD_CAD_rate', 'manu_labor_rate SNP_TSX_Close',\n",
       "       'CAD_M1_MoneySupply^2', 'CAD_M1_MoneySupply USD_CAD_rate',\n",
       "       'CAD_M1_MoneySupply SNP_TSX_Close', 'USD_CAD_rate^2',\n",
       "       'USD_CAD_rate SNP_TSX_Close', 'SNP_TSX_Close^2'], dtype=object)"
      ]
     },
     "execution_count": 21,
     "metadata": {},
     "output_type": "execute_result"
    }
   ],
   "source": [
    "import numpy as np\n",
    "array_of_features = np.array(features)\n",
    "feature_names_transformed = poly.get_feature_names_out(array_of_features)\n",
    "feature_names_transformed"
   ]
  },
  {
   "cell_type": "code",
   "execution_count": 25,
   "metadata": {},
   "outputs": [
    {
     "name": "stdout",
     "output_type": "stream",
     "text": [
      "[2.4498417] [[-4.01260048e-15  1.40177948e-16 -1.31983112e-21  6.76642733e-23\n",
      "   4.68771206e-23 -7.10656058e-12  2.40361197e-23 -7.94760192e-20\n",
      "   5.27667824e-22 -2.10073822e-21  6.10041158e-22  1.37923652e-21\n",
      "   1.38977699e-13  1.88735144e-22  1.82429220e-19 -5.77947015e-20\n",
      "  -3.85884599e-21 -1.52128177e-20  1.13993250e-14 -5.25838492e-22\n",
      "  -8.04347438e-18  6.56259335e-22  1.17361752e-21  3.88880171e-13\n",
      "   1.87504393e-22  7.58093002e-20  3.62152321e-21  1.69814374e-14\n",
      "   5.51742396e-22  4.06299503e-19  2.32735453e-24  1.90699971e-12\n",
      "  -4.03753404e-17  6.17216098e-23  1.53520377e-19 -2.94975310e-16]]\n"
     ]
    }
   ],
   "source": [
    "X_trainain_Categorical = pd.DataFrame(X_train, columns=feature_names_transformed)\n",
    "X_trainain_Categorical\n",
    "\n",
    "# X_tr_Categorical_index_ = X_trainain_Categorical.set_index(train_set.index) \n",
    "# X_tr_Categorical_index_\n",
    "# X_tr_Non_Categorical_index_ = list(pd.DataFrame(X_train).drop(X_tr_Categorical_index_, axis = 1))\n",
    "from sklearn.linear_model import LinearRegression\n",
    "lin_reg = LinearRegression()\n",
    "lin_reg.fit(X_train, y_train)\n",
    "print(lin_reg.intercept_, lin_reg.coef_)"
   ]
  },
  {
   "cell_type": "code",
   "execution_count": 23,
   "metadata": {},
   "outputs": [
    {
     "ename": "NameError",
     "evalue": "name 'X_train_Non_Categorical_index_' is not defined",
     "output_type": "error",
     "traceback": [
      "\u001b[1;31m---------------------------------------------------------------------------\u001b[0m",
      "\u001b[1;31mNameError\u001b[0m                                 Traceback (most recent call last)",
      "\u001b[1;32m~\\AppData\\Local\\Temp/ipykernel_10796/1418650664.py\u001b[0m in \u001b[0;36m<module>\u001b[1;34m\u001b[0m\n\u001b[0;32m     14\u001b[0m         \u001b[1;32mreturn\u001b[0m \u001b[0mX\u001b[0m\u001b[1;33m[\u001b[0m\u001b[0mself\u001b[0m\u001b[1;33m.\u001b[0m\u001b[0mattribute_names\u001b[0m\u001b[1;33m]\u001b[0m\u001b[1;33m.\u001b[0m\u001b[0mvalues\u001b[0m\u001b[1;33m\u001b[0m\u001b[1;33m\u001b[0m\u001b[0m\n\u001b[0;32m     15\u001b[0m num_pipeline = Pipeline([\n\u001b[1;32m---> 16\u001b[1;33m         \u001b[1;33m(\u001b[0m\u001b[1;34m'selector'\u001b[0m\u001b[1;33m,\u001b[0m \u001b[0mDataFrameSelector\u001b[0m\u001b[1;33m(\u001b[0m\u001b[0mX_train_Non_Categorical_index_\u001b[0m\u001b[1;33m)\u001b[0m\u001b[1;33m)\u001b[0m\u001b[1;33m,\u001b[0m\u001b[1;33m\u001b[0m\u001b[1;33m\u001b[0m\u001b[0m\n\u001b[0m\u001b[0;32m     17\u001b[0m         \u001b[1;33m(\u001b[0m\u001b[1;34m'std_scaler'\u001b[0m\u001b[1;33m,\u001b[0m \u001b[0mStandardScaler\u001b[0m\u001b[1;33m(\u001b[0m\u001b[1;33m)\u001b[0m\u001b[1;33m)\u001b[0m\u001b[1;33m,\u001b[0m\u001b[1;33m\u001b[0m\u001b[1;33m\u001b[0m\u001b[0m\n\u001b[0;32m     18\u001b[0m     ])\n",
      "\u001b[1;31mNameError\u001b[0m: name 'X_train_Non_Categorical_index_' is not defined"
     ]
    }
   ],
   "source": [
    "from sklearn.base import BaseEstimator, TransformerMixin\n",
    "from sklearn.pipeline import Pipeline\n",
    "from sklearn.preprocessing import StandardScaler\n",
    "\n",
    "\n",
    "# Create a class to select numerical or categorical columns \n",
    "# since Scikit-Learn doesn't handle DataFrames yet\n",
    "class DataFrameSelector(BaseEstimator, TransformerMixin):\n",
    "    def __init__(self, attribute_names):\n",
    "        self.attribute_names = attribute_names\n",
    "    def fit(self, X, y=None):\n",
    "        return self\n",
    "    def transform(self, X):\n",
    "        return X[self.attribute_names].values\n",
    "num_pipeline = Pipeline([\n",
    "        ('selector', DataFrameSelector(X_train_Non_Categorical_index_)),\n",
    "        ('std_scaler', StandardScaler()),\n",
    "    ])\n",
    "\n",
    "cat_pipeline = Pipeline([\n",
    "        ('selector', DataFrameSelector(X_train_Categorical_index_))\n",
    "    ])\n",
    "\n",
    "\n",
    "from sklearn.pipeline import FeatureUnion\n",
    "\n",
    "full_pipeline = FeatureUnion(transformer_list=[\n",
    "    (\"num_pipeline\", num_pipeline),\n",
    "    (\"cat_pipeline\", cat_pipeline),    \n",
    "    \n",
    "    ])\n",
    "\n",
    "# Convert the X_train and X_test lists into DataFrames, before transforming the data.\n",
    "X_train = pd.DataFrame(X_train)\n",
    "X_test = pd.DataFrame(X_test)\n",
    "\n",
    "X_train_transform = full_pipeline.fit_transform(X_train)\n",
    "X_test_transform = full_pipeline.transform(X_test)\n",
    "\n",
    "# Apply Poly transformations on the y_train and y_test DataFrames\n",
    "from sklearn.preprocessing import StandardScaler\n",
    "\n",
    "number_pipeline = Pipeline([('std_scaler', StandardScaler())])\n",
    "\n",
    "Y_train_transform = number_pipeline.fit_transform(y_train)\n",
    "Y_test_transform = number_pipeline.transform(y_test)\n"
   ]
  }
 ],
 "metadata": {
  "kernelspec": {
   "display_name": "Python 3",
   "language": "python",
   "name": "python3"
  },
  "language_info": {
   "codemirror_mode": {
    "name": "ipython",
    "version": 3
   },
   "file_extension": ".py",
   "mimetype": "text/x-python",
   "name": "python",
   "nbconvert_exporter": "python",
   "pygments_lexer": "ipython3",
   "version": "3.9.6 (tags/v3.9.6:db3ff76, Jun 28 2021, 15:26:21) [MSC v.1929 64 bit (AMD64)]"
  },
  "orig_nbformat": 4,
  "vscode": {
   "interpreter": {
    "hash": "efb0c3f73c53059a6b121ee3e648682a72a70bca51702b5eecf92cc1de91c3e0"
   }
  }
 },
 "nbformat": 4,
 "nbformat_minor": 2
}
