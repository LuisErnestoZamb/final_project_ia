{
 "cells": [
  {
   "cell_type": "code",
   "execution_count": 6,
   "metadata": {},
   "outputs": [],
   "source": [
    "import pandas as pd\n",
    "data = pd.read_csv('data_merged.csv', index_col=0)\n",
    "\n",
    "from sklearn.model_selection import train_test_split\n",
    "train_set, test_set = train_test_split(data, test_size=0.2, random_state=42)\n",
    "target = \"Inflation_Rate\"\n",
    "features = list(train_set.columns)\n",
    "features = [x for x in features if x not in ['Date', \"Inflation_Rate\"]]\n",
    "\n",
    "X_train = train_set[features]\n",
    "y_train = train_set[[target]]\n",
    "X_test = test_set[features]\n",
    "y_test = test_set[[target]]\n",
    "from sklearn.preprocessing import PolynomialFeatures\n",
    "poly = PolynomialFeatures(2)\n",
    "poly.fit(X_train)\n",
    "X_train = poly.fit_transform(X_train)\n",
    "X_test = poly.transform(X_test)"
   ]
  },
  {
   "cell_type": "code",
   "execution_count": 7,
   "metadata": {},
   "outputs": [
    {
     "name": "stdout",
     "output_type": "stream",
     "text": [
      "Original number of features: 7\n",
      "Final number of features: 36\n"
     ]
    }
   ],
   "source": [
    "print(\"Original number of features: \"+str(len(features)))\n",
    "print(\"Final number of features: \"+str(X_train.shape[1]))\n",
    "\n"
   ]
  },
  {
   "cell_type": "code",
   "execution_count": 3,
   "metadata": {},
   "outputs": [
    {
     "data": {
      "text/plain": [
       "array(['1', 'Unnamed: 0', 'Prime_Rate', 'Crude_prices', '10_year_bond',\n",
       "       'manu_labor_rate', 'CAD_M1_MoneySupply', 'USD_CAD_rate',\n",
       "       'SNP_TSX_Close', 'Unnamed: 0^2', 'Unnamed: 0 Prime_Rate',\n",
       "       'Unnamed: 0 Crude_prices', 'Unnamed: 0 10_year_bond',\n",
       "       'Unnamed: 0 manu_labor_rate', 'Unnamed: 0 CAD_M1_MoneySupply',\n",
       "       'Unnamed: 0 USD_CAD_rate', 'Unnamed: 0 SNP_TSX_Close',\n",
       "       'Prime_Rate^2', 'Prime_Rate Crude_prices',\n",
       "       'Prime_Rate 10_year_bond', 'Prime_Rate manu_labor_rate',\n",
       "       'Prime_Rate CAD_M1_MoneySupply', 'Prime_Rate USD_CAD_rate',\n",
       "       'Prime_Rate SNP_TSX_Close', 'Crude_prices^2',\n",
       "       'Crude_prices 10_year_bond', 'Crude_prices manu_labor_rate',\n",
       "       'Crude_prices CAD_M1_MoneySupply', 'Crude_prices USD_CAD_rate',\n",
       "       'Crude_prices SNP_TSX_Close', '10_year_bond^2',\n",
       "       '10_year_bond manu_labor_rate', '10_year_bond CAD_M1_MoneySupply',\n",
       "       '10_year_bond USD_CAD_rate', '10_year_bond SNP_TSX_Close',\n",
       "       'manu_labor_rate^2', 'manu_labor_rate CAD_M1_MoneySupply',\n",
       "       'manu_labor_rate USD_CAD_rate', 'manu_labor_rate SNP_TSX_Close',\n",
       "       'CAD_M1_MoneySupply^2', 'CAD_M1_MoneySupply USD_CAD_rate',\n",
       "       'CAD_M1_MoneySupply SNP_TSX_Close', 'USD_CAD_rate^2',\n",
       "       'USD_CAD_rate SNP_TSX_Close', 'SNP_TSX_Close^2'], dtype=object)"
      ]
     },
     "execution_count": 3,
     "metadata": {},
     "output_type": "execute_result"
    }
   ],
   "source": [
    "import numpy as np\n",
    "array_of_features = np.array(features)\n",
    "feature_names_transformed = poly.get_feature_names_out(array_of_features)\n",
    "feature_names_transformed"
   ]
  }
 ],
 "metadata": {
  "kernelspec": {
   "display_name": "Python 3.9.10 64-bit",
   "language": "python",
   "name": "python3"
  },
  "language_info": {
   "codemirror_mode": {
    "name": "ipython",
    "version": 3
   },
   "file_extension": ".py",
   "mimetype": "text/x-python",
   "name": "python",
   "nbconvert_exporter": "python",
   "pygments_lexer": "ipython3",
   "version": "3.9.10"
  },
  "orig_nbformat": 4,
  "vscode": {
   "interpreter": {
    "hash": "aee8b7b246df8f9039afb4144a1f6fd8d2ca17a180786b69acc140d282b71a49"
   }
  }
 },
 "nbformat": 4,
 "nbformat_minor": 2
}
