{
 "cells": [
  {
   "cell_type": "code",
   "execution_count": 1,
   "metadata": {},
   "outputs": [
    {
     "data": {
      "text/html": [
       "<div>\n",
       "<style scoped>\n",
       "    .dataframe tbody tr th:only-of-type {\n",
       "        vertical-align: middle;\n",
       "    }\n",
       "\n",
       "    .dataframe tbody tr th {\n",
       "        vertical-align: top;\n",
       "    }\n",
       "\n",
       "    .dataframe thead th {\n",
       "        text-align: right;\n",
       "    }\n",
       "</style>\n",
       "<table border=\"1\" class=\"dataframe\">\n",
       "  <thead>\n",
       "    <tr style=\"text-align: right;\">\n",
       "      <th></th>\n",
       "      <th>Prime_Rate</th>\n",
       "      <th>Crude_prices</th>\n",
       "      <th>10_year_bond</th>\n",
       "      <th>manu_labor_rate</th>\n",
       "      <th>CAD_M1_MoneySupply</th>\n",
       "      <th>USD_CAD_rate</th>\n",
       "      <th>SNP_TSX_Close</th>\n",
       "    </tr>\n",
       "  </thead>\n",
       "  <tbody>\n",
       "    <tr>\n",
       "      <th>0</th>\n",
       "      <td>6.50</td>\n",
       "      <td>25.51</td>\n",
       "      <td>6.491500</td>\n",
       "      <td>18.25</td>\n",
       "      <td>2.166880e+11</td>\n",
       "      <td>1.448226</td>\n",
       "      <td>8481.099609</td>\n",
       "    </tr>\n",
       "    <tr>\n",
       "      <th>1</th>\n",
       "      <td>6.75</td>\n",
       "      <td>27.78</td>\n",
       "      <td>6.338571</td>\n",
       "      <td>18.33</td>\n",
       "      <td>2.216730e+11</td>\n",
       "      <td>1.450341</td>\n",
       "      <td>9129.000000</td>\n",
       "    </tr>\n",
       "    <tr>\n",
       "      <th>2</th>\n",
       "      <td>7.00</td>\n",
       "      <td>27.49</td>\n",
       "      <td>6.028261</td>\n",
       "      <td>18.23</td>\n",
       "      <td>2.250820e+11</td>\n",
       "      <td>1.460354</td>\n",
       "      <td>9462.400391</td>\n",
       "    </tr>\n",
       "    <tr>\n",
       "      <th>3</th>\n",
       "      <td>7.00</td>\n",
       "      <td>22.76</td>\n",
       "      <td>5.924211</td>\n",
       "      <td>18.27</td>\n",
       "      <td>2.284850e+11</td>\n",
       "      <td>1.468305</td>\n",
       "      <td>9347.599609</td>\n",
       "    </tr>\n",
       "    <tr>\n",
       "      <th>4</th>\n",
       "      <td>7.50</td>\n",
       "      <td>27.74</td>\n",
       "      <td>6.215000</td>\n",
       "      <td>18.42</td>\n",
       "      <td>2.281010e+11</td>\n",
       "      <td>1.494781</td>\n",
       "      <td>9252.000000</td>\n",
       "    </tr>\n",
       "  </tbody>\n",
       "</table>\n",
       "</div>"
      ],
      "text/plain": [
       "   Prime_Rate  Crude_prices  10_year_bond  manu_labor_rate  \\\n",
       "0        6.50         25.51      6.491500            18.25   \n",
       "1        6.75         27.78      6.338571            18.33   \n",
       "2        7.00         27.49      6.028261            18.23   \n",
       "3        7.00         22.76      5.924211            18.27   \n",
       "4        7.50         27.74      6.215000            18.42   \n",
       "\n",
       "   CAD_M1_MoneySupply  USD_CAD_rate  SNP_TSX_Close  \n",
       "0        2.166880e+11      1.448226    8481.099609  \n",
       "1        2.216730e+11      1.450341    9129.000000  \n",
       "2        2.250820e+11      1.460354    9462.400391  \n",
       "3        2.284850e+11      1.468305    9347.599609  \n",
       "4        2.281010e+11      1.494781    9252.000000  "
      ]
     },
     "execution_count": 1,
     "metadata": {},
     "output_type": "execute_result"
    }
   ],
   "source": [
    "import pandas as pd\n",
    "from sklearn.model_selection import train_test_split\n",
    "from sklearn.linear_model import LinearRegression\n",
    "from sklearn.metrics import mean_squared_error, mean_absolute_error\n",
    "\n",
    "df = pd.read_csv(\"https://ai-project-inflation.s3.amazonaws.com/data_merged.csv\", index_col=0)\n",
    "X = df.drop(['Inflation_Rate', 'Date'],axis= 1)\n",
    "y = df['Inflation_Rate']\n",
    "X.head()"
   ]
  },
  {
   "cell_type": "code",
   "execution_count": 3,
   "metadata": {},
   "outputs": [
    {
     "name": "stdout",
     "output_type": "stream",
     "text": [
      "mean_squared_error :  0.3733431934667782\n",
      "mean_absolute_error :  0.48056145809582423\n"
     ]
    }
   ],
   "source": [
    "X_train, X_test, y_train, y_test = train_test_split(X, y, test_size=0.3, random_state=101)\n",
    "\n",
    "# creating a regression model\n",
    "model = LinearRegression()\n",
    "  \n",
    "# fitting the model\n",
    "model.fit(X_train, y_train)\n",
    "  \n",
    "# making predictions\n",
    "predictions = model.predict(X_test)\n",
    "# print(predictions)\n",
    "# model evaluation\n",
    "print('mean_squared_error : ', mean_squared_error(y_test, predictions))\n",
    "print('mean_absolute_error : ', mean_absolute_error(y_test, predictions))"
   ]
  }
 ],
 "metadata": {
  "kernelspec": {
   "display_name": "Python 3.9.10 64-bit",
   "language": "python",
   "name": "python3"
  },
  "language_info": {
   "codemirror_mode": {
    "name": "ipython",
    "version": 3
   },
   "file_extension": ".py",
   "mimetype": "text/x-python",
   "name": "python",
   "nbconvert_exporter": "python",
   "pygments_lexer": "ipython3",
   "version": "3.9.10"
  },
  "orig_nbformat": 4,
  "vscode": {
   "interpreter": {
    "hash": "aee8b7b246df8f9039afb4144a1f6fd8d2ca17a180786b69acc140d282b71a49"
   }
  }
 },
 "nbformat": 4,
 "nbformat_minor": 2
}
