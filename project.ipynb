{
 "cells": [
  {
   "cell_type": "code",
   "execution_count": 10,
   "metadata": {},
   "outputs": [
    {
     "data": {
      "text/html": [
       "<div>\n",
       "<style scoped>\n",
       "    .dataframe tbody tr th:only-of-type {\n",
       "        vertical-align: middle;\n",
       "    }\n",
       "\n",
       "    .dataframe tbody tr th {\n",
       "        vertical-align: top;\n",
       "    }\n",
       "\n",
       "    .dataframe thead th {\n",
       "        text-align: right;\n",
       "    }\n",
       "</style>\n",
       "<table border=\"1\" class=\"dataframe\">\n",
       "  <thead>\n",
       "    <tr style=\"text-align: right;\">\n",
       "      <th></th>\n",
       "      <th>Date</th>\n",
       "      <th>Europe Brent Spot Price FOB (Dollars per Barrel)</th>\n",
       "    </tr>\n",
       "  </thead>\n",
       "  <tbody>\n",
       "    <tr>\n",
       "      <th>0</th>\n",
       "      <td>1987-05-15</td>\n",
       "      <td>18.58</td>\n",
       "    </tr>\n",
       "    <tr>\n",
       "      <th>1</th>\n",
       "      <td>1987-06-15</td>\n",
       "      <td>18.86</td>\n",
       "    </tr>\n",
       "    <tr>\n",
       "      <th>2</th>\n",
       "      <td>1987-07-15</td>\n",
       "      <td>19.86</td>\n",
       "    </tr>\n",
       "    <tr>\n",
       "      <th>3</th>\n",
       "      <td>1987-08-15</td>\n",
       "      <td>18.98</td>\n",
       "    </tr>\n",
       "    <tr>\n",
       "      <th>4</th>\n",
       "      <td>1987-09-15</td>\n",
       "      <td>18.31</td>\n",
       "    </tr>\n",
       "  </tbody>\n",
       "</table>\n",
       "</div>"
      ],
      "text/plain": [
       "        Date  Europe Brent Spot Price FOB (Dollars per Barrel)\n",
       "0 1987-05-15                                             18.58\n",
       "1 1987-06-15                                             18.86\n",
       "2 1987-07-15                                             19.86\n",
       "3 1987-08-15                                             18.98\n",
       "4 1987-09-15                                             18.31"
      ]
     },
     "execution_count": 10,
     "metadata": {},
     "output_type": "execute_result"
    }
   ],
   "source": [
    "import pandas as pd\n",
    "\n",
    "# Brute data from different sources:\n",
    "# https://ai-project-inflation.s3.amazonaws.com/\n",
    "# cpi_inflation = pd.read_csv(\"./1810025601-CPI_and_Inflation_ydata.csv\", thousands=',')\n",
    "brent_crude_prices = pd.read_excel(\"./Brent_crude_prices.xls\", sheet_name=1, header=2)\n",
    "# fx_rates = pd.read_excel(\"./FX_RATES_MONTHLY.xlsx\")\n",
    "# prime_rate = pd.read_excel(\"./Prime_Rate_History-WOWA.xlsx\")\n",
    "# manufacturing_rate = pd.read_excel(\"./Stlouisfeb_hourmanurate.csv\")\n",
    "# bond_rate = pd.read_csv(\"./StlouisfedCAD10yearbondrate.csv\")\n",
    "# money_supply = pd.read_csv(\"./Stlousisfed_Canadain_Money_supply.csv\")\n",
    "# fed_fx_rates = pd.read_csv(\"./stlousisfedFXRates.csv\")\n",
    "# tsx_data = pd.read_csv(\"./TSX_data_for_20_years.csv\")\n",
    "\n",
    "brent_crude_prices.shape\n",
    "\n",
    "brent_crude_prices.head()\n",
    "\n",
    "\n"
   ]
  },
  {
   "cell_type": "code",
   "execution_count": 3,
   "metadata": {},
   "outputs": [
    {
     "data": {
      "text/plain": [
       "(17536, 43)"
      ]
     },
     "execution_count": 3,
     "metadata": {},
     "output_type": "execute_result"
    }
   ],
   "source": [
    "fire_data.shape"
   ]
  },
  {
   "cell_type": "code",
   "execution_count": 30,
   "metadata": {},
   "outputs": [
    {
     "name": "stdout",
     "output_type": "stream",
     "text": [
      "2018-02-24 21:04:29\n"
     ]
    }
   ],
   "source": [
    "import datetime\n",
    "tfp_alarm_time = datetime.datetime.strptime(\"2018-02-24T21:04:29\", \"%Y-%m-%dT%H:%M:%S\")\n",
    "print(tfp_alarm_time)"
   ]
  },
  {
   "cell_type": "code",
   "execution_count": 27,
   "metadata": {},
   "outputs": [
    {
     "ename": "TypeError",
     "evalue": "strptime() argument 1 must be str, not DataFrame",
     "output_type": "error",
     "traceback": [
      "\u001b[0;31m---------------------------------------------------------------------------\u001b[0m",
      "\u001b[0;31mTypeError\u001b[0m                                 Traceback (most recent call last)",
      "Cell \u001b[0;32mIn [27], line 3\u001b[0m\n\u001b[1;32m      1\u001b[0m \u001b[39mfrom\u001b[39;00m \u001b[39mdateutil\u001b[39;00m\u001b[39m.\u001b[39;00m\u001b[39mparser\u001b[39;00m \u001b[39mimport\u001b[39;00m parse\n\u001b[1;32m      2\u001b[0m \u001b[39mimport\u001b[39;00m \u001b[39mdatetime\u001b[39;00m\n\u001b[0;32m----> 3\u001b[0m tfp_alarm_time \u001b[39m=\u001b[39m datetime\u001b[39m.\u001b[39mdatetime\u001b[39m.\u001b[39mstrptime(fire_data[[\u001b[39m\"\u001b[39m\u001b[39mTFS_Alarm_Time\u001b[39m\u001b[39m\"\u001b[39m]], \u001b[39m\"\u001b[39m\u001b[39m%\u001b[39m\u001b[39mY-\u001b[39m\u001b[39m%\u001b[39m\u001b[39mm-\u001b[39m\u001b[39m%d\u001b[39;00m\u001b[39mT\u001b[39m\u001b[39m%\u001b[39m\u001b[39mH:\u001b[39m\u001b[39m%\u001b[39m\u001b[39mM:\u001b[39m\u001b[39m%\u001b[39m\u001b[39mS\u001b[39m\u001b[39m\"\u001b[39m)\n\u001b[1;32m      4\u001b[0m tfp_arrival_time \u001b[39m=\u001b[39m datetime\u001b[39m.\u001b[39mdatetime\u001b[39m.\u001b[39mstrptime(fire_data[[\u001b[39m\"\u001b[39m\u001b[39mTFS_Arrival_Time\u001b[39m\u001b[39m\"\u001b[39m]], \u001b[39m\"\u001b[39m\u001b[39m%\u001b[39m\u001b[39mY-\u001b[39m\u001b[39m%\u001b[39m\u001b[39mm-\u001b[39m\u001b[39m%d\u001b[39;00m\u001b[39mT\u001b[39m\u001b[39m%\u001b[39m\u001b[39mH:\u001b[39m\u001b[39m%\u001b[39m\u001b[39mM:\u001b[39m\u001b[39m%\u001b[39m\u001b[39mS\u001b[39m\u001b[39m\"\u001b[39m)\n\u001b[1;32m      6\u001b[0m time_frame \u001b[39m=\u001b[39m tfp_arrival_time \u001b[39m-\u001b[39m tfp_alarm_time\n",
      "\u001b[0;31mTypeError\u001b[0m: strptime() argument 1 must be str, not DataFrame"
     ]
    }
   ],
   "source": [
    "from dateutil.parser import parse\n",
    "import datetime\n",
    "import pandas as pd\n",
    "data = ['item_1', 'item_2', 'item_3']\n",
    "df = pd.DataFrame (data, columns = ['column_name'])\n",
    "\n",
    "\n",
    "result = df.apply(func)\n",
    "tfp_alarm_time = datetime.datetime.strptime(\"Fri Sep 25 18:09:49 -1000 2009\", \"%Y-%m-%dT%H:%M:%S\")\n",
    "tfp_arrival_time = datetime.datetime.strptime(fire_data[[\"TFS_Arrival_Time\"]], \"%Y-%m-%dT%H:%M:%S\")\n",
    "\n",
    "time_frame = tfp_arrival_time - tfp_alarm_time\n",
    "print(time_frame)\n",
    "# datetime.datetime()\n",
    "#\n",
    "# a = parse(\"Fri Sep 25 18:09:49 -1000 2009\")\n",
    "# print(a)\n",
    "# delayTruck = datetime.datetime(fire_data[[\"TFS_Alarm_Time\"]]) - datetime.datetime()\n",
    "  "
   ]
  }
 ],
 "metadata": {
  "kernelspec": {
   "display_name": "Python 3.9.10 64-bit",
   "language": "python",
   "name": "python3"
  },
  "language_info": {
   "codemirror_mode": {
    "name": "ipython",
    "version": 3
   },
   "file_extension": ".py",
   "mimetype": "text/x-python",
   "name": "python",
   "nbconvert_exporter": "python",
   "pygments_lexer": "ipython3",
   "version": "3.9.10"
  },
  "orig_nbformat": 4,
  "vscode": {
   "interpreter": {
    "hash": "aee8b7b246df8f9039afb4144a1f6fd8d2ca17a180786b69acc140d282b71a49"
   }
  }
 },
 "nbformat": 4,
 "nbformat_minor": 2
}
