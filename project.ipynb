{
 "cells": [
  {
   "cell_type": "code",
   "execution_count": 2,
   "metadata": {},
   "outputs": [
    {
     "name": "stdout",
     "output_type": "stream",
     "text": [
      "<class 'pandas.core.frame.DataFrame'>\n",
      "RangeIndex: 17536 entries, 0 to 17535\n",
      "Data columns (total 43 columns):\n",
      " #   Column                                                         Non-Null Count  Dtype  \n",
      "---  ------                                                         --------------  -----  \n",
      " 0   _id                                                            17536 non-null  int64  \n",
      " 1   Area_of_Origin                                                 15623 non-null  object \n",
      " 2   Building_Status                                                11216 non-null  object \n",
      " 3   Business_Impact                                                11214 non-null  object \n",
      " 4   Civilian_Casualties                                            17536 non-null  int64  \n",
      " 5   Count_of_Persons_Rescued                                       17536 non-null  int64  \n",
      " 6   Estimated_Dollar_Loss                                          15627 non-null  float64\n",
      " 7   Estimated_Number_Of_Persons_Displaced                          11215 non-null  float64\n",
      " 8   Exposures                                                      333 non-null    float64\n",
      " 9   Ext_agent_app_or_defer_time                                    15622 non-null  object \n",
      " 10  Extent_Of_Fire                                                 11214 non-null  object \n",
      " 11  Final_Incident_Type                                            17536 non-null  object \n",
      " 12  Fire_Alarm_System_Impact_on_Evacuation                         11214 non-null  object \n",
      " 13  Fire_Alarm_System_Operation                                    11214 non-null  object \n",
      " 14  Fire_Alarm_System_Presence                                     11214 non-null  object \n",
      " 15  Fire_Under_Control_Time                                        15634 non-null  object \n",
      " 16  Ignition_Source                                                15623 non-null  object \n",
      " 17  Incident_Number                                                17536 non-null  object \n",
      " 18  Incident_Station_Area                                          17536 non-null  int64  \n",
      " 19  Incident_Ward                                                  17451 non-null  float64\n",
      " 20  Initial_CAD_Event_Type                                         17536 non-null  object \n",
      " 21  Intersection                                                   17535 non-null  object \n",
      " 22  Last_TFS_Unit_Clear_Time                                       17536 non-null  object \n",
      " 23  Latitude                                                       17535 non-null  float64\n",
      " 24  Level_Of_Origin                                                11214 non-null  object \n",
      " 25  Longitude                                                      17535 non-null  float64\n",
      " 26  Material_First_Ignited                                         15623 non-null  object \n",
      " 27  Method_Of_Fire_Control                                         15622 non-null  object \n",
      " 28  Number_of_responding_apparatus                                 17536 non-null  int64  \n",
      " 29  Number_of_responding_personnel                                 17536 non-null  int64  \n",
      " 30  Possible_Cause                                                 15623 non-null  object \n",
      " 31  Property_Use                                                   17535 non-null  object \n",
      " 32  Smoke_Alarm_at_Fire_Origin                                     11214 non-null  object \n",
      " 33  Smoke_Alarm_at_Fire_Origin_Alarm_Failure                       11214 non-null  object \n",
      " 34  Smoke_Alarm_at_Fire_Origin_Alarm_Type                          11214 non-null  object \n",
      " 35  Smoke_Alarm_Impact_on_Persons_Evacuating_Impact_on_Evacuation  11214 non-null  object \n",
      " 36  Smoke_Spread                                                   11214 non-null  object \n",
      " 37  Sprinkler_System_Operation                                     11214 non-null  object \n",
      " 38  Sprinkler_System_Presence                                      11214 non-null  object \n",
      " 39  Status_of_Fire_On_Arrival                                      15622 non-null  object \n",
      " 40  TFS_Alarm_Time                                                 17536 non-null  object \n",
      " 41  TFS_Arrival_Time                                               17536 non-null  object \n",
      " 42  TFS_Firefighter_Casualties                                     17536 non-null  int64  \n",
      "dtypes: float64(6), int64(7), object(30)\n",
      "memory usage: 5.8+ MB\n"
     ]
    }
   ],
   "source": [
    "import pandas as pd\n",
    "fire_data = pd.read_csv(\"./Fire_Incidents_Data.csv\", thousands=',')\n",
    "fire_data.info()"
   ]
  }
 ],
 "metadata": {
  "kernelspec": {
   "display_name": "Python 3.9.10 64-bit",
   "language": "python",
   "name": "python3"
  },
  "language_info": {
   "codemirror_mode": {
    "name": "ipython",
    "version": 3
   },
   "file_extension": ".py",
   "mimetype": "text/x-python",
   "name": "python",
   "nbconvert_exporter": "python",
   "pygments_lexer": "ipython3",
   "version": "3.9.10"
  },
  "orig_nbformat": 4,
  "vscode": {
   "interpreter": {
    "hash": "aee8b7b246df8f9039afb4144a1f6fd8d2ca17a180786b69acc140d282b71a49"
   }
  }
 },
 "nbformat": 4,
 "nbformat_minor": 2
}
